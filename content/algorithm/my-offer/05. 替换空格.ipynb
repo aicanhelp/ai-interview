{
 "cells": [
  {
   "cell_type": "markdown",
   "metadata": {},
   "source": [
    "## 题目描述\n",
    "\n",
    "\n",
    "将一个字符串中的空格替换成 \"%20\"。\n",
    "\n",
    "```text\n",
    "Input:\n",
    "\"A B\"\n",
    "\n",
    "Output:\n",
    "\"A%20B\"\n",
    "```\n",
    "\n",
    "## 解题思路\n",
    "\n",
    "在字符串尾部填充任意字符，使得字符串的长度等于替换之后的长度。因为一个空格要替换成三个字符（%20），因此当遍历到一个空格时，需要在尾部填充两个任意字符。\n",
    "\n",
    "令 P1 指向字符串原来的末尾位置，P2 指向字符串现在的末尾位置。P1 和 P2 从后向前遍历，当 P1 遍历到一个空格时，就需要令 P2 指向的位置依次填充 02%（注意是逆序的），否则就填充上 P1 指向字符的值。\n",
    "\n",
    "从后向前遍是为了在改变 P2 所指向的内容时，不会影响到 P1 遍历原来字符串的内容。\n",
    "\n",
    "<div align=\"center\"> <img src=\"https://cs-notes-1256109796.cos.ap-guangzhou.myqcloud.com/6980aef0-debe-4b4b-8da5-8b1befbc1408.gif\" width=\"230px\"> </div><br>"
   ]
  },
  {
   "cell_type": "code",
   "execution_count": 1,
   "metadata": {},
   "outputs": [],
   "source": [
    "public String replaceSpace(StringBuffer str) {\n",
    "    int P1 = str.length() - 1;\n",
    "    for (int i = 0; i <= P1; i++)\n",
    "        if (str.charAt(i) == ' ')\n",
    "            str.append(\"  \");\n",
    "\n",
    "    int P2 = str.length() - 1;\n",
    "    while (P1 >= 0 && P2 > P1) {\n",
    "        char c = str.charAt(P1--);\n",
    "        if (c == ' ') {\n",
    "            str.setCharAt(P2--, '0');\n",
    "            str.setCharAt(P2--, '2');\n",
    "            str.setCharAt(P2--, '%');\n",
    "        } else {\n",
    "            str.setCharAt(P2--, c);\n",
    "        }\n",
    "    }\n",
    "    return str.toString();\n",
    "}"
   ]
  },
  {
   "cell_type": "code",
   "execution_count": null,
   "metadata": {},
   "outputs": [],
   "source": []
  }
 ],
 "metadata": {
  "kernelspec": {
   "display_name": "Java",
   "language": "java",
   "name": "java"
  },
  "language_info": {
   "codemirror_mode": "java",
   "file_extension": ".jshell",
   "mimetype": "text/x-java-source",
   "name": "Java",
   "pygments_lexer": "java",
   "version": "11.0.9+11"
  }
 },
 "nbformat": 4,
 "nbformat_minor": 4
}
