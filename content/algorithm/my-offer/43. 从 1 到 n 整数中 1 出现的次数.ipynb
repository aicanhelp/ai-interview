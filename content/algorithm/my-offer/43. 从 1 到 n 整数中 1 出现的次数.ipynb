{
 "cells": [
  {
   "cell_type": "code",
   "execution_count": 1,
   "metadata": {},
   "outputs": [],
   "source": [
    "public int countDigitOne(int n){\n",
    "    if(n<1) return 0;\n",
    "\n",
    "    int count = 0;\n",
    "    int base = 1;\n",
    "    int round = n;\n",
    "\n",
    "    while(round>0){\n",
    "        int weight = round%10;\n",
    "        round/=10;\n",
    "        count += round*base;\n",
    "\n",
    "        if(weight==1)\n",
    "            count+=(n%base)+1;\n",
    "        else if(weight>1)\n",
    "            count+=base;\n",
    "\n",
    "        base*=10;\n",
    "    }\n",
    "    return count;\n",
    "}"
   ]
  },
  {
   "cell_type": "code",
   "execution_count": null,
   "metadata": {},
   "outputs": [],
   "source": []
  }
 ],
 "metadata": {
  "kernelspec": {
   "display_name": "Java",
   "language": "java",
   "name": "java"
  },
  "language_info": {
   "codemirror_mode": "java",
   "file_extension": ".jshell",
   "mimetype": "text/x-java-source",
   "name": "Java",
   "pygments_lexer": "java",
   "version": "11.0.9+11"
  }
 },
 "nbformat": 4,
 "nbformat_minor": 4
}
