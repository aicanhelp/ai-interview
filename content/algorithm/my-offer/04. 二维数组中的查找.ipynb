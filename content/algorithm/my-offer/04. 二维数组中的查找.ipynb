{
 "cells": [
  {
   "cell_type": "markdown",
   "metadata": {},
   "source": [
    "## 题目描述\n",
    "\n",
    "给定一个二维数组，其每一行从左到右递增排序，从上到下也是递增排序。给定一个数，判断这个数是否在该二维数组中。\n",
    "\n",
    "```html\n",
    "Consider the following matrix:\n",
    "[\n",
    "  [1,   4,  7, 11, 15],\n",
    "  [2,   5,  8, 12, 19],\n",
    "  [3,   6,  9, 16, 22],\n",
    "  [10, 13, 14, 17, 24],\n",
    "  [18, 21, 23, 26, 30]\n",
    "]\n",
    "\n",
    "Given target = 5, return true.\n",
    "Given target = 20, return false.\n",
    "```\n",
    "\n",
    "## 解题思路\n",
    "\n",
    "要求时间复杂度 O(M + N)，空间复杂度 O(1)。其中 M 为行数，N 为 列数。\n",
    "\n",
    "该二维数组中的一个数，小于它的数一定在其左边，大于它的数一定在其下边。因此，从右上角开始查找，就可以根据 target 和当前元素的大小关系来缩小查找区间，当前元素的查找区间为左下角的所有元素。\n",
    "\n",
    "<div align=\"center\"> <img src=\"https://cs-notes-1256109796.cos.ap-guangzhou.myqcloud.com/0ad9f7ba-f408-4999-a77a-9b73562c9088.gif\" width=\"200px\"> </div><br>"
   ]
  },
  {
   "cell_type": "code",
   "execution_count": 1,
   "metadata": {},
   "outputs": [],
   "source": [
    "public boolean Find(int target, int[][] matrix) {\n",
    "    if (matrix == null || matrix.length == 0 || matrix[0].length == 0)\n",
    "        return false;\n",
    "    int rows = matrix.length, cols = matrix[0].length;\n",
    "    int r = 0, c = cols - 1; // 从右上角开始\n",
    "    while (r <= rows - 1 && c >= 0) {\n",
    "        if (target == matrix[r][c])\n",
    "            return true;\n",
    "        else if (target > matrix[r][c])\n",
    "            r++;\n",
    "        else\n",
    "            c--;\n",
    "    }\n",
    "    return false;\n",
    "}"
   ]
  },
  {
   "cell_type": "code",
   "execution_count": null,
   "metadata": {},
   "outputs": [],
   "source": []
  }
 ],
 "metadata": {
  "kernelspec": {
   "display_name": "Java",
   "language": "java",
   "name": "java"
  },
  "language_info": {
   "codemirror_mode": "java",
   "file_extension": ".jshell",
   "mimetype": "text/x-java-source",
   "name": "Java",
   "pygments_lexer": "java",
   "version": "11.0.9+11"
  }
 },
 "nbformat": 4,
 "nbformat_minor": 4
}
