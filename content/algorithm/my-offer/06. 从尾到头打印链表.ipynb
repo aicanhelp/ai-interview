{
 "cells": [
  {
   "cell_type": "markdown",
   "metadata": {},
   "source": [
    "## 题目描述\n",
    "\n",
    "从尾到头反过来打印出每个结点的值。\n",
    "\n",
    "<div align=\"center\"> <img src=\"https://cs-notes-1256109796.cos.ap-guangzhou.myqcloud.com/f5792051-d9b2-4ca4-a234-a4a2de3d5a57.png\" width=\"280px\"> </div><br>\n",
    "\n",
    "## 解题思路\n",
    "\n",
    "### 使用递归\n",
    "\n",
    "要逆序打印链表 1->2->3（3,2,1)，可以先逆序打印链表 2->3(3,2)，最后再打印第一个节点 1。而链表 2->3 可以看成一个新的链表，要逆序打印该链表可以继续使用求解函数，也就是在求解函数中调用自己，这就是递归函数。"
   ]
  },
  {
   "cell_type": "code",
   "execution_count": 3,
   "metadata": {},
   "outputs": [],
   "source": [
    "class ListNode{\n",
    "    int val;\n",
    "    ListNode next;\n",
    "}\n",
    "\n",
    "public ArrayList<Integer> printListFromTailToHead(ListNode listNode) {\n",
    "    ArrayList<Integer> ret = new ArrayList<>();\n",
    "    if (listNode != null) {\n",
    "        ret.addAll(printListFromTailToHead(listNode.next));\n",
    "        ret.add(listNode.val);\n",
    "    }\n",
    "    return ret;\n",
    "}"
   ]
  },
  {
   "cell_type": "markdown",
   "metadata": {},
   "source": [
    "### 使用头插法\n",
    "\n",
    "使用头插法可以得到一个逆序的链表。\n",
    "\n",
    "头结点和第一个节点的区别：\n",
    "\n",
    "- 头结点是在头插法中使用的一个额外节点，这个节点不存储值；\n",
    "- 第一个节点就是链表的第一个真正存储值的节点。\n",
    "\n",
    "<div align=\"center\"> <img src=\"https://cs-notes-1256109796.cos.ap-guangzhou.myqcloud.com/0dae7e93-cfd1-4bd3-97e8-325b032b716f.gif\" width=\"370px\"> </div><br>"
   ]
  },
  {
   "cell_type": "code",
   "execution_count": 4,
   "metadata": {},
   "outputs": [],
   "source": [
    "public ArrayList<Integer> printListFromTailToHead(ListNode listNode) {\n",
    "    // 头插法构建逆序链表\n",
    "    ListNode head = new ListNode(-1);\n",
    "    while (listNode != null) {\n",
    "        ListNode memo = listNode.next;\n",
    "        listNode.next = head.next;\n",
    "        head.next = listNode;\n",
    "        listNode = memo;\n",
    "    }\n",
    "    // 构建 ArrayList\n",
    "    ArrayList<Integer> ret = new ArrayList<>();\n",
    "    head = head.next;\n",
    "    while (head != null) {\n",
    "        ret.add(head.val);\n",
    "        head = head.next;\n",
    "    }\n",
    "    return ret;\n",
    "}"
   ]
  },
  {
   "cell_type": "markdown",
   "metadata": {},
   "source": [
    "### 使用栈\n",
    "\n",
    "栈具有后进先出的特点，在遍历链表时将值按顺序放入栈中，最后出栈的顺序即为逆序。\n",
    "\n",
    "<div align=\"center\"> <img src=\"https://cs-notes-1256109796.cos.ap-guangzhou.myqcloud.com/9d1deeba-4ae1-41dc-98f4-47d85b9831bc.gif\" width=\"300px\"> </div><br>"
   ]
  },
  {
   "cell_type": "code",
   "execution_count": 5,
   "metadata": {},
   "outputs": [],
   "source": [
    "public ArrayList<Integer> printListFromTailToHead(ListNode listNode) {\n",
    "    Stack<Integer> stack = new Stack<>();\n",
    "    while (listNode != null) {\n",
    "        stack.add(listNode.val);\n",
    "        listNode = listNode.next;\n",
    "    }\n",
    "    ArrayList<Integer> ret = new ArrayList<>();\n",
    "    while (!stack.isEmpty())\n",
    "        ret.add(stack.pop());\n",
    "    return ret;\n",
    "}"
   ]
  },
  {
   "cell_type": "code",
   "execution_count": null,
   "metadata": {},
   "outputs": [],
   "source": []
  }
 ],
 "metadata": {
  "kernelspec": {
   "display_name": "Java",
   "language": "java",
   "name": "java"
  },
  "language_info": {
   "codemirror_mode": "java",
   "file_extension": ".jshell",
   "mimetype": "text/x-java-source",
   "name": "Java",
   "pygments_lexer": "java",
   "version": "11.0.9+11"
  }
 },
 "nbformat": 4,
 "nbformat_minor": 4
}
