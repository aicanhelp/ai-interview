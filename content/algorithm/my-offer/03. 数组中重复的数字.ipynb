{
 "cells": [
  {
   "cell_type": "markdown",
   "metadata": {},
   "source": [
    "## 题目描述\n",
    "\n",
    "在一个长度为 n 的数组里的所有数字都在 0 到 n-1 的范围内。数组中某些数字是重复的，但不知道有几个数字是重复的，也不知道每个数字重复几次。请找出数组中任意一个重复的数字。\n",
    "\n",
    "```html\n",
    "Input:\n",
    "{2, 3, 1, 0, 2, 5}\n",
    "\n",
    "Output:\n",
    "2\n",
    "```\n",
    "\n",
    "## 解题思路\n",
    "\n",
    "要求时间复杂度 O(N)，空间复杂度 O(1)。因此不能使用排序的方法，也不能使用额外的标记数组。\n",
    "\n",
    "对于这种数组元素在 [0, n-1] 范围内的问题，可以将值为 i 的元素调整到第 i 个位置上进行求解。\n",
    "\n",
    "以 (2, 3, 1, 0, 2, 5) 为例，遍历到位置 4 时，该位置上的数为 2，但是第 2 个位置上已经有一个 2 的值了，因此可以知道 2 重复：\n",
    "\n",
    "<div align=\"center\"> <img src=\"https://cs-notes-1256109796.cos.ap-guangzhou.myqcloud.com/49d2adc1-b28a-44bf-babb-d44993f4a2e3.gif\" width=\"250px\"> </div><br>"
   ]
  },
  {
   "cell_type": "code",
   "execution_count": 1,
   "metadata": {},
   "outputs": [],
   "source": [
    "public boolean duplicate(int[] nums, int length, int[] duplication) {\n",
    "    if (nums == null || length <= 0)\n",
    "        return false;\n",
    "    for (int i = 0; i < length; i++) {\n",
    "        while (nums[i] != i) {\n",
    "            if (nums[i] == nums[nums[i]]) {\n",
    "                duplication[0] = nums[i];\n",
    "                return true;\n",
    "            }\n",
    "            swap(nums, i, nums[i]);\n",
    "        }\n",
    "    }\n",
    "    return false;\n",
    "}\n",
    "\n",
    "private void swap(int[] nums, int i, int j) {\n",
    "    int t = nums[i];\n",
    "    nums[i] = nums[j];\n",
    "    nums[j] = t;\n",
    "}"
   ]
  },
  {
   "cell_type": "code",
   "execution_count": null,
   "metadata": {},
   "outputs": [],
   "source": []
  }
 ],
 "metadata": {
  "kernelspec": {
   "display_name": "Java",
   "language": "java",
   "name": "java"
  },
  "language_info": {
   "codemirror_mode": "java",
   "file_extension": ".jshell",
   "mimetype": "text/x-java-source",
   "name": "Java",
   "pygments_lexer": "java",
   "version": "11.0.9+11"
  }
 },
 "nbformat": 4,
 "nbformat_minor": 4
}
