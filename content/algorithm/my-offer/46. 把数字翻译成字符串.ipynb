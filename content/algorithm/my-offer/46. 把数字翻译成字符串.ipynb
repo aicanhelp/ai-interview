{
 "cells": [
  {
   "cell_type": "code",
   "execution_count": 1,
   "metadata": {},
   "outputs": [],
   "source": [
    "class Solution {\n",
    "    public int translateNum(int num) {\n",
    "        String s=String.valueOf(num);\n",
    "        if (s.length() < 2)\n",
    "            return s.length();\n",
    "        int n = s.length();\n",
    "        int[] dp = new int[n];\n",
    "        dp[0] = 1;\n",
    "        if (s.charAt(0)=='0' || Integer.valueOf(s.substring(0,2))>25){\n",
    "            dp[1]=1;\n",
    "        }else{\n",
    "            dp[1]=2;\n",
    "        }\n",
    "        for (int i = 2; i < n; i++) {\n",
    "            dp[i] += dp[i - 1];\n",
    "            if (s.charAt(i-1)=='0')\n",
    "                continue;\n",
    "            int two = Integer.valueOf(s.substring(i - 1, i+1));\n",
    "            if (two < 26)\n",
    "                dp[i] += dp[i - 2];\n",
    "        }\n",
    "        return dp[n-1];\n",
    "\n",
    "    }\n",
    "}"
   ]
  },
  {
   "cell_type": "code",
   "execution_count": null,
   "metadata": {},
   "outputs": [],
   "source": []
  }
 ],
 "metadata": {
  "kernelspec": {
   "display_name": "Java",
   "language": "java",
   "name": "java"
  },
  "language_info": {
   "codemirror_mode": "java",
   "file_extension": ".jshell",
   "mimetype": "text/x-java-source",
   "name": "Java",
   "pygments_lexer": "java",
   "version": "11.0.9+11"
  }
 },
 "nbformat": 4,
 "nbformat_minor": 4
}
