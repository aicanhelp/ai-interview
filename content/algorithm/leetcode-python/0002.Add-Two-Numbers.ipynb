{
 "cells": [
  {
   "cell_type": "markdown",
   "metadata": {},
   "source": [
    "# [2. Add Two Numbers](https://leetcode.com/problems/add-two-numbers/)\n",
    "\n",
    "## 题目\n",
    "\n",
    "You are given two non-empty linked lists representing two non-negative integers. The digits are stored in reverse order and each of their nodes contain a single digit. Add the two numbers and return it as a linked list.\n",
    "\n",
    "You may assume the two numbers do not contain any leading zero, except the number 0 itself.\n",
    "\n",
    "Example:\n",
    "\n",
    "```\n",
    "Input: (2 -> 4 -> 3) + (5 -> 6 -> 4)\n",
    "Output: 7 -> 0 -> 8\n",
    "```\n",
    "Explanation: 342 + 465 = 807.\n",
    "\n",
    "\n",
    "## 题目大意\n",
    "\n",
    "2 个逆序的链表，要求从低位开始相加，得出结果也逆序输出，返回值是逆序结果链表的头结点。\n",
    "\n",
    "## 解题思路\n",
    "\n",
    "需要注意的是各种进位问题。\n",
    "\n",
    "极端情况，例如\n",
    "```\n",
    "Input: (9 -> 9 -> 9 -> 9 -> 9) + (1 -> )\n",
    "Output: 0 -> 0 -> 0 -> 0 -> 0 -> 1\n",
    "```\n",
    "\n",
    "为了处理方法统一，可以先建立一个虚拟头结点，这个虚拟头结点的 Next 指向真正的 head，这样 head 不需要单独处理，直接 while 循环即可。另外判断循环终止的条件不用是 p.Next ！= nil，这样最后一位还需要额外计算，循环终止条件应该是 p != nil。"
   ]
  },
  {
   "cell_type": "code",
   "execution_count": 1,
   "metadata": {},
   "outputs": [],
   "source": [
    "class ListNode:\n",
    "    def __init__(self, val=0, next=None):\n",
    "        self.val = val\n",
    "        self.next = next"
   ]
  },
  {
   "cell_type": "code",
   "execution_count": 2,
   "metadata": {},
   "outputs": [],
   "source": [
    "class Solution:\n",
    "    def depth(l:ListNode)->int:\n",
    "        depth=0\n",
    "        while l is not None:\n",
    "            depth=depth+1\n",
    "            l=l.next\n",
    "        return depth\n",
    "    \n",
    "    def pad(l:ListNode,length:int):\n",
    "        while l.next is not None: \n",
    "            l=l.next\n",
    "        for i in range(length):\n",
    "            l.next=ListNode(0)\n",
    "            l=l.next\n",
    "    \n",
    "    def addTwoListNode(self, l1: ListNode, l2: ListNode) -> ListNode:\n",
    "        return None\n",
    "    \n",
    "    def addTwoNumbers(self, l1: ListNode, l2: ListNode) -> ListNode:\n",
    "        if l1 is None:\n",
    "            return l2\n",
    "        if l2 is None:\n",
    "            return l1\n",
    "        \n",
    "        l1_depth=self.depth(l1)\n",
    "        l2_depth=self.depth(l2)\n",
    "        if l1_depth<l2_depth:\n",
    "            l1=self.pad(l1,l2_depth-l1_depth)\n",
    "        else:\n",
    "            l2=self.pad(l2,l1_depth-l2_depth)\n",
    "            \n",
    "        return self.addTwoListNode(l1,l2)"
   ]
  },
  {
   "cell_type": "code",
   "execution_count": null,
   "metadata": {},
   "outputs": [],
   "source": []
  }
 ],
 "metadata": {
  "kernelspec": {
   "display_name": "Python 3",
   "language": "python",
   "name": "python3"
  },
  "language_info": {
   "codemirror_mode": {
    "name": "ipython",
    "version": 3
   },
   "file_extension": ".py",
   "mimetype": "text/x-python",
   "name": "python",
   "nbconvert_exporter": "python",
   "pygments_lexer": "ipython3",
   "version": "3.6.9"
  }
 },
 "nbformat": 4,
 "nbformat_minor": 4
}
